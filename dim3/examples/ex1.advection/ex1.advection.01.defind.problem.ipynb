{
 "cells": [
  {
   "cell_type": "markdown",
   "id": "f52a626c-ef9d-42a0-a1ad-dabd00ce0366",
   "metadata": {},
   "source": [
    "# Ex1 : Advection - Defind Problem"
   ]
  },
  {
   "cell_type": "markdown",
   "id": "570e1618-95b0-43a0-8e82-8adba2655922",
   "metadata": {},
   "source": [
    "## Problem <a name='problem'></a>"
   ]
  },
  {
   "cell_type": "markdown",
   "id": "6314ff09-ec2b-463f-a8b7-60015bab8935",
   "metadata": {},
   "source": [
    "The advection equation is \n",
    "\n",
    "$$ \\frac{\\partial u}{\\partial t} + \\nabla \\cdot \\left( \\mathbf{v} u \\right) = 0 $$\n",
    "\n",
    "We assume the velocity is constant(linear), we have\n",
    "\n",
    "$$ \\frac{\\partial u}{\\partial t} + \\frac{\\partial (v_x u)}{\\partial x} + \\frac{\\partial (v_y u)}{\\partial y} + \\frac{\\partial (v_z u)}{\\partial z} = 0 $$\n",
    "\n",
    "where $u=u(x,y,z)$."
   ]
  },
  {
   "cell_type": "markdown",
   "id": "d13c6ccd-2ab5-42b0-838a-7ececa16b992",
   "metadata": {},
   "source": [
    "This problem is a simple linear advection test problem with veclity $\\mathbf{v}=(v_x,v_y,v_z)=(1,1,1)$. Let $\\Omega=(0,1)^3$ and $T=6$ with $\\textit{periodic}$ boundary conditions on all boundaries. Consider the initial conditions\n",
    "\\begin{equation}\n",
    "u(x,y,z,0) = u_0(x,y,z)=\\sin{(2\\pi x)}\\sin{(2\\pi y)}\\sin{(2\\pi z)}.\n",
    "\\end{equation}\n",
    "\n",
    "The exact solution is given as\n",
    "\n",
    "$$ u(x,y,z,t) = u_0(x-v_xt,y-v_yt,z-v_zt). $$\n"
   ]
  },
  {
   "cell_type": "markdown",
   "id": "60f81ef5-caf8-4308-809b-70da8ac3bcd4",
   "metadata": {
    "tags": []
   },
   "source": [
    "## DGLM formulation <a name='dg_form'></a>"
   ]
  },
  {
   "cell_type": "markdown",
   "id": "841879b3-2872-40d0-8703-eb5f02081c69",
   "metadata": {},
   "source": [
    "By the nodal DG approximation, on all K elements, \n",
    "\n",
    "A: \n",
    "\n",
    "$$ M^k \\frac{d}{dt} u^k_0 - (r_x D^T_r + s_x D^T_s + t_x D^T_t) M^k v_x u^k_0 - (r_y D^T_r + s_y D^T_s + s_y D^T_t) M^k v_y u^k_0 - (r_z D^T_r + s_z D^T_s + s_z D^T_t) M^k v_z u^k_0 + \\sum_\\gamma \\tau_\\gamma J_s M_\\gamma u^k_0 $$\n",
    "\n",
    "$$\n",
    "\\begin{aligned}\n",
    "& \\text{(RHS)} \\\\\n",
    "\\Rightarrow&\n",
    "(r_x M^{-1} D^T_r M + s_x M^{-1} D^T_s M + t_x M^{-1} D^T_t M) v_x u^k_0 \n",
    "+ (r_y M^{-1} D^T_r M + s_y M^{-1} D^T_s M + t_y M^{-1} D^T_t M) v_y u^k_0 \n",
    "+ (r_z M^{-1} D^T_r M + s_z M^{-1} D^T_s M + t_z M^{-1} D^T_t M) v_z u^k_0 \n",
    "- \\sum_\\gamma \\tau_\\gamma J^{-1} M^{-1} J_s M_\\gamma u^k_0 \\\\\n",
    "=&\n",
    "(r_x D'_r + s_x D'_s + t_x D'_t) v_x u^k_0\n",
    "+ (r_y D'_r + s_y D'_s + t_y D'_t) v_y u^k_0\n",
    "+ (r_z D'_r + s_z D'_s + t_z D'_t) v_z u^k_0\n",
    "- \\sum_\\gamma \\tau_\\gamma J^{-1} M^{-1} J_s M_\\gamma u^k_0 \\\\\n",
    "\\end{aligned}\n",
    "$$\n",
    "\n",
    "where $D'_r = M^{-1} D^T_r M$, $D'_s = M^{-1} D^T_s M$, and $D'_t = M^{-1} D^T_t M$"
   ]
  },
  {
   "cell_type": "markdown",
   "id": "a3403385-559d-4eb2-8df7-b12d2cdeb138",
   "metadata": {},
   "source": [
    "B: \n",
    "\n",
    "$$\n",
    "\\begin{aligned}\n",
    "& \\text{(RHS)} \\\\\n",
    "& \\sum_\\gamma - J^{-1} M^{-1} J_s M_\\gamma \\left( n_x v_x u^k_b + n_y v_y u^k_b + n_z v_z u^k_b \\right)\n",
    "+  \\tau_\\gamma J^{-1} M^{-1} J_s M_\\gamma u^k_b \\\\\n",
    "=& - J^{-1} \\sum_\\gamma M^{-1} M_\\gamma J_s \\left( n_x v_x u^k_b + n_y v_y u^k_b + n_z v_z u^k_b \\right)\n",
    "- \\tau_\\gamma M^{-1} M_\\gamma J_s u^k_b \\\\\n",
    "=& - J^{-1} \\sum_\\gamma M^{-1} M_\\gamma J_s \\left( n_x v_x u^k_b + n_y v_y u^k_b + n_z v_z u^k_b - \\tau_\\gamma u^k_b \\right) \\\\\n",
    "=& - \\text{LIFT}@\\text{Fscale}. \\left( n_x v_x u^k_b + n_y v_y u^k_b + n_z v_z u^k_b - \\tau_\\gamma u^k_b \\right)\n",
    "\\end{aligned}\n",
    "$$\n",
    "\n",
    "where $\\text{LIFT}=M^{-1} M_\\gamma$ and $\\text{Fscale}=J_s/J^k$."
   ]
  },
  {
   "cell_type": "markdown",
   "id": "55c74d25-a74f-4951-84e1-ea72392a7351",
   "metadata": {},
   "source": [
    "R: \n",
    "\n",
    "$$ r = 0 $$\n",
    "\n",
    "If the Dirichlet boundary conditions are applied\n",
    "\n",
    "$$\n",
    "\\text{(RHS)}\n",
    "- J^{-1} M^{-1} J_s M_s \\left( n_x v_x \\mathbf{g} + n_y v_y \\mathbf{g} + n_z v_z \\mathbf{g} \\right)\n",
    "+ \\sum_\\gamma \\tau_\\gamma J^{-1} M^{-1} J_s M_s \\mathbf{g}\n",
    "$$\n",
    "\n",
    "where $\\mathbf{g}$ is the Dirichlet boundary conditions."
   ]
  },
  {
   "cell_type": "markdown",
   "id": "28dd8242-b2af-493d-b76e-0b6af415e5b4",
   "metadata": {},
   "source": [
    "So we have the explicit DGLM evolution\n",
    "\n",
    "$$ \n",
    "\\begin{aligned}\n",
    "\\frac{d}{dt} u^k_0 \n",
    "&= A + B + R \\\\\n",
    "&= (r_x D'_r + s_x D'_s + s_x D'_t) v_x u^k_0 + (r_y D'_r + s_y D'_s + s_y D'_t) v_y u^k_0 + (r_z D'_r + s_z D'_s + t_z D'_t) v_z u^k_0\n",
    "- \\text{LIFT}@\\text{Fscale}. \\left[ n_x v_x u^k_b + n_y v_y u^k_b  + n_z v_z u^k_b - \\tau_\\gamma \\left( u^k_b - u^k_0 \\right) \\right] \\\\\n",
    "\\end{aligned}\n",
    "$$\n",
    "\n",
    "On the Dirichlet boundary,\n",
    "\n",
    "$$\n",
    "= (r_x D'_r + s_x D'_s + t_x D'_t) v_x u^k_0 + (r_y D'_r + s_y D'_s + t_y D'_t) v_y u^k_0 + (r_z D'_r + s_z D'_s + t_z D'_t) v_z u^k_0\n",
    "- \\text{LIFT}@\\text{Fscale}. \\left[ n_x v_x \\mathbf{g} + n_y v_y \\mathbf{g} + n_z v_z \\mathbf{g} - \\tau_\\gamma \\left( \\mathbf{g} - u^k_0 \\right) \\right]\n",
    "$$"
   ]
  },
  {
   "cell_type": "markdown",
   "id": "032e3354-a487-4ac5-a4d4-f0909ec3a802",
   "metadata": {},
   "source": [
    "We have to update $u^k_b$\n",
    "\n",
    "$$ u_b = \\frac{u^-_0 + u^+_0}{2} $$"
   ]
  },
  {
   "cell_type": "markdown",
   "id": "c429dd48-55ae-4eb8-aa3c-56052ada59ee",
   "metadata": {},
   "source": [
    "### Reference\n",
    "\n",
    "- HyPar (Finite-Difference Hyperbolic-Parabolic PDE Solver on Cartesian Grids)\n",
    "  - 3D Linear Advection - Gaussian Pulse (https://hypar.github.io/a00058.html)"
   ]
  }
 ],
 "metadata": {
  "kernelspec": {
   "display_name": "Python 3 (ipykernel)",
   "language": "python",
   "name": "python3"
  },
  "language_info": {
   "codemirror_mode": {
    "name": "ipython",
    "version": 3
   },
   "file_extension": ".py",
   "mimetype": "text/x-python",
   "name": "python",
   "nbconvert_exporter": "python",
   "pygments_lexer": "ipython3",
   "version": "3.10.12"
  }
 },
 "nbformat": 4,
 "nbformat_minor": 5
}
