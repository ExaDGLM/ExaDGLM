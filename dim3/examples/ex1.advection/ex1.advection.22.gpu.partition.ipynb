{
 "cells": [
  {
   "cell_type": "markdown",
   "id": "27b17d8f-a3c8-407f-a8b7-01edbca2ff96",
   "metadata": {},
   "source": [
    "# Ex1 : Advection simulation - GPU Multi partition version"
   ]
  },
  {
   "cell_type": "markdown",
   "id": "4bf8fce9-ae2c-4172-bee6-3d257b20211b",
   "metadata": {},
   "source": [
    "### Set work directory"
   ]
  },
  {
   "cell_type": "code",
   "execution_count": null,
   "id": "c2735bd0-8ff4-41de-b00a-3e1ec0995ebf",
   "metadata": {
    "tags": []
   },
   "outputs": [],
   "source": [
    "DGLM_DIR = \"/NAS/home/parl/lab/DGLM/0.4.1-OpenSource\"\n",
    "WORK_DIR = \"ex1.run.gpu.uniform.npart-3\""
   ]
  },
  {
   "cell_type": "markdown",
   "id": "576afce2-7a3a-4def-855c-6135f67e680a",
   "metadata": {},
   "source": [
    "### Set modules"
   ]
  },
  {
   "cell_type": "code",
   "execution_count": null,
   "id": "d78af222-61f5-4e52-8b1f-4f14eb22726c",
   "metadata": {
    "tags": []
   },
   "outputs": [],
   "source": [
    "%load_ext autoreload\n",
    "%autoreload all"
   ]
  },
  {
   "cell_type": "markdown",
   "id": "1b70fb41-3e21-4711-8ec3-37a917005804",
   "metadata": {},
   "source": [
    "### Initialize DGLM object <a name='init_obj'></a>"
   ]
  },
  {
   "cell_type": "code",
   "execution_count": null,
   "id": "389fda1b-4eef-4491-abbb-0026db24a510",
   "metadata": {
    "tags": []
   },
   "outputs": [],
   "source": [
    "N    = 5\n",
    "Nvar = 1  \n",
    "tmax = 2\n",
    "mpisize = npart = 3\n",
    "\n",
    "\n",
    "x1, x2, nx = 0, 1, 7  # Nelem=1296, h=0.06904 (cf, nx=6: Nelem=750, h=0.8284)\n",
    "y1, y2, ny = 0, 1, 7\n",
    "z1, z2, nz = 0, 1, 7\n",
    "bc = {'x':'pbc', 'y':'pbc', 'z':'pbc'}\n",
    "mesh_info = {\"type\": \"uniform\", \"param\": [nx, ny, nz, x1, x2, y1, y2, z1, z2, bc]}\n",
    "\n",
    "\n",
    "dglm_param = {\n",
    "        'CFL'      : 0.8,\n",
    "        'gamma'    : 1.4,\n",
    "        'tau_scale': 1.2,\n",
    "        'interpN'  : 2,\n",
    "        'dtype'    : 'f8'}\n",
    "\n",
    "print(f\"DGLM_DIR={DGLM_DIR}\")\n",
    "print(f\"WORK_DIR={WORK_DIR}\")\n",
    "\n",
    "import sys\n",
    "sys.path.append(f\"{DGLM_DIR}/dim3/src/python\")\n",
    "from dglm_3d_launcher import DGLM3DMpiGPU\n",
    "\n",
    "dg_list = []\n",
    "for myrank in range(mpisize):\n",
    "    dg = DGLM3DMpiGPU(myrank, mpisize, DGLM_DIR, WORK_DIR, N, Nvar, tmax, dglm_param)\n",
    "    dg_list.append(dg)\n",
    "    dg.init_mesh(mesh_info)\n",
    "    dg.make_work_dir()\n",
    "    dg.save_to_binaries(matrix_order='f', verbose=1)\n",
    "\n",
    "print()\n",
    "prefix = 'advec_nopad_mpi_'\n",
    "#prefix = 'advec_pad_mpi_'\n",
    "suffix = '.cu'\n",
    "names = ['data_host', 'data_dev', 'comm', 'dglm', 'time', 'init', 'main']\n",
    "filenames = [prefix+name+suffix for name in names]\n",
    "dg.save_to_header([fname for fname in filenames if 'main' not in fname], verbose=1)\n",
    "dg.link_codes(filenames, verbose=1)\n",
    "dg.build([fname for fname in filenames if 'main' in fname], verbose=1)\n",
    "\n",
    "dg.check_mem_size(prefix+'data_dev'+suffix, verbose=1)\n",
    "hmin, hmax = dg.mesh.calc_spatial_h(verbose=1)"
   ]
  },
  {
   "cell_type": "markdown",
   "id": "7a168399-6761-4a74-b2d5-193cc277d077",
   "metadata": {},
   "source": [
    "### Memory size\n",
    "\n",
    "DGLM|Mesh|Nelem|Npart|h|N|NP|NFACE|NFP|Nvar|total bytes\n",
    ":---:|:---:|:---:|:---:|:---:|:---:|:---:|:---:|:---:|:---:|:---:\n",
    "0.2.5|Gmsh|768|-|0.2|5|56|4|21|1|5.78 MB\n",
    "0.4.1|Uniform|1296|1|0.06904|5|56|4|21|1|9.68 MB\n",
    "0.4.1|Uniform|1296(648)|2|0.06904|5|56|4|21|1|10.56 MB (5.28 MB)\n",
    "0.4.1|Uniform|1296(432)|3|0.06904|5|56|4|21|1|10.77 MB (3.59 MB)\n",
    "0.4.1|Gmsh|768(384)|2|0.03655|5|56|4|21|1|6.06 MB (3.03 MB)\n",
    "0.4.1|Gmsh|768(256)|3|0.03742|5|56|4|21|1|6.60 MB (2.20 MB)"
   ]
  },
  {
   "cell_type": "markdown",
   "id": "51e60f89-f4ee-4d0b-a826-ca5d1a03bc50",
   "metadata": {},
   "source": [
    "### Run"
   ]
  },
  {
   "cell_type": "code",
   "execution_count": null,
   "id": "7da9fdd3-a96c-4109-a0e9-1eac21da46fa",
   "metadata": {},
   "outputs": [],
   "source": [
    "tstep, avg_dt, elapsed_time = dg.run('advec_nopad_mpi_main', verbose=1)"
   ]
  },
  {
   "cell_type": "markdown",
   "id": "1364a61a-2590-460a-a429-93975f51cd7c",
   "metadata": {
    "tags": []
   },
   "source": [
    "### L2 error (pointwise)"
   ]
  },
  {
   "cell_type": "code",
   "execution_count": null,
   "id": "bc524c24-9c04-4cf5-a68d-8024d148fd89",
   "metadata": {
    "tags": []
   },
   "outputs": [],
   "source": [
    "import numpy as np\n",
    "\n",
    "def ref_solution(dg, t):\n",
    "    x = dg.mesh.high_PX.ravel()\n",
    "    y = dg.mesh.high_PY.ravel()\n",
    "    z = dg.mesh.high_PZ.ravel()\n",
    "        \n",
    "    vx = np.ones_like(x)\n",
    "    vy = np.ones_like(y)\n",
    "    vz = np.ones_like(z)\n",
    "\n",
    "    xvt = ((x-vx*t) + 1)%1 - 1\n",
    "    yvt = ((y-vy*t) + 1)%1 - 1\n",
    "    zvt = ((z-vz*t) + 1)%1 - 1\n",
    "    u_ref = np.sin(2*np.pi*xvt)*np.sin(2*np.pi*yvt)*np.sin(2*np.pi*zvt)\n",
    "\n",
    "    return u_ref"
   ]
  },
  {
   "cell_type": "code",
   "execution_count": null,
   "id": "d29ac247-238f-4ed3-a2f5-49309c9a792b",
   "metadata": {
    "tags": []
   },
   "outputs": [],
   "source": [
    "from glob import glob\n",
    "\n",
    "l2_list = []\n",
    "for dg in dg_list:\n",
    "    out_fpaths = sorted(glob(dg.dataout_dir + \"/*.bin\"))\n",
    "    u_numeric = np.fromfile(out_fpaths[-1])\n",
    "    u_ref = ref_solution(dg, t=dg.tmax)\n",
    "    l2 = dg.l2_error(u_ref, u_numeric, apply_sqrt=False)\n",
    "    l2_list.append(l2)\n",
    "    \n",
    "print(np.sqrt(np.sum(l2_list)))"
   ]
  },
  {
   "cell_type": "markdown",
   "id": "d5082157-e000-4185-9b28-84c67c99195b",
   "metadata": {
    "tags": []
   },
   "source": [
    "DGLM|exp|Mesh|Nelem|Npart|N|CFL|h|dt|tmax|tstep|L2 error\n",
    ":---:|:---:|:---:|:---:|:---:|:---:|:---:|:---:|:---:|:---:|:---:|:---:\n",
    "0.2.5|1.13|Gmsh|768|-|5|0.8|0.2|0.00109|2.0|1840|1.178141116365974e-04\n",
    "0.4.1|1.19|Uniform|1296|1|5|0.8|0.06904|0.00243|2.0|809|2.284502600150407e-05\n",
    "0.4.1|1.18|Uniform|1296|2|5|0.8|0.06904|0.00243|2.0|809|2.284502600150407e-05\n",
    "0.4.1|1.18|Uniform|1296|3|5|0.8|0.06904|0.00243|2.0|809|2.284502600150407e-05\n",
    "0.4.1|1.18|Gmsh|768|3|5|0.8|0.03742|0.00107|2.0|1840|1.178141116366126e-04\n",
    "0.4.1|1.53|Gmsh|768|2|5|0.8|0.03655|0.00107|2.0|1840|1.178141116365982e-04"
   ]
  },
  {
   "cell_type": "markdown",
   "id": "6b975916-7150-4951-8937-4a6730b4501c",
   "metadata": {},
   "source": [
    "### Plot snapshot <a name='plot_snapshot'></a>"
   ]
  },
  {
   "cell_type": "code",
   "execution_count": null,
   "id": "08f5685d-dfc1-4267-94c3-888f2bbaed81",
   "metadata": {},
   "outputs": [],
   "source": [
    "import sys\n",
    "sys.path.append(DGLM_DIR + \"/utils/src/python\")\n",
    "from plot3d import Plot3DTetra"
   ]
  },
  {
   "cell_type": "code",
   "execution_count": null,
   "id": "19c8d086-8301-4e32-adf7-477bcd777211",
   "metadata": {},
   "outputs": [],
   "source": [
    "p3t = Plot3DTetra(dg_list, res='low', backend='trame', use_xvfb=True, file_exist=True)\n",
    "u, tstep = p3t.read_output_file(seq=-1)\n",
    "print(f\"tstep={tstep}\")\n",
    "pl, pvmesh = p3t.plot(u, 'u')\n",
    "pl.add_mesh(pvmesh, colormap='CET_L18', opacity='sigmoid')\n",
    "#contours = pvmesh.contour(np.linspace(0, 1, 6), scalars='u')\n",
    "#pl.add_mesh(pvmesh.outline(), color=\"k\")\n",
    "#pl.add_mesh(contours, opacity=0.9, clim=[-1,1])\n",
    "pl.show()"
   ]
  },
  {
   "cell_type": "markdown",
   "id": "eaf421f3-8d96-4e1e-aa5a-bae477ea01e4",
   "metadata": {
    "tags": []
   },
   "source": [
    "### Plot animation <a name='plot_ani'></a>"
   ]
  },
  {
   "cell_type": "code",
   "execution_count": null,
   "id": "50ce76cd-1032-4ebc-b88b-a938aa58329e",
   "metadata": {},
   "outputs": [],
   "source": [
    "p3t = Plot3DTetra(dg_list, res='high', backend='trame', use_xvfb=True, file_exist=True)\n",
    "u0, tstep = p3t.read_output_file(0)\n",
    "pl, pvmesh = p3t.plot(u0, 'u')\n",
    "pl.open_movie(WORK_DIR + \"/u1.mp4\", framerate=12, quality=5)\n",
    "#pl.open_gif(WORK_DIR + \"/u1.gif\", fps=12)\n",
    "\n",
    "pl.add_mesh(pvmesh, scalars=\"u\", colormap='CET_L18', opacity='sigmoid')\n",
    "#contours = pvmesh.contour(np.linspace(0, 1, 6), scalars='u')\n",
    "#pl.add_mesh(contours, opacity=0.9, clim=[-1,1])\n",
    "#pl.add_mesh(pvmesh.outline(), color=\"k\")\n",
    "pl.show_axes()\n",
    "\n",
    "# camera angle\n",
    "num_files = p3t.get_num_output_files()\n",
    "ang = 360/(num_files-1)\n",
    "\n",
    "# Update scalars on each frame\n",
    "for seq in range(1, num_files):\n",
    "    u, tstep = p3t.read_output_file(seq)\n",
    "    p3t.set_point_data(u, 'u')\n",
    "    #contours.copy_from(pvmesh.contour(np.linspace(0, 1, 6), scalars='u'))\n",
    "    \n",
    "    pl.add_text(f\"tstep={tstep}\", name='time-label')\n",
    "    pl.camera.azimuth = 240  # ang\n",
    "    pl.write_frame()  # Write this frame\n",
    "\n",
    "# Be sure to close the plotter when finished\n",
    "pl.close()"
   ]
  },
  {
   "cell_type": "code",
   "execution_count": null,
   "id": "434f0593-affb-42b8-bb6d-bc6bf9f5bb58",
   "metadata": {
    "tags": []
   },
   "outputs": [],
   "source": [
    "from IPython.display import Video\n",
    "Video(WORK_DIR+\"/u1.mp4\", width=800, html_attributes=\"controls loop autoplay\")"
   ]
  }
 ],
 "metadata": {
  "kernelspec": {
   "display_name": "Python 3 (ipykernel)",
   "language": "python",
   "name": "python3"
  },
  "language_info": {
   "codemirror_mode": {
    "name": "ipython",
    "version": 3
   },
   "file_extension": ".py",
   "mimetype": "text/x-python",
   "name": "python",
   "nbconvert_exporter": "python",
   "pygments_lexer": "ipython3",
   "version": "3.10.12"
  }
 },
 "nbformat": 4,
 "nbformat_minor": 5
}
