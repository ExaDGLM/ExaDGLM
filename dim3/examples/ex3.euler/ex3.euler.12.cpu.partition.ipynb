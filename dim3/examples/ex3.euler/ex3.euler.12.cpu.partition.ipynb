{
 "cells": [
  {
   "cell_type": "markdown",
   "id": "169f4feb-425d-434d-b2f0-9c50e7a0cc5a",
   "metadata": {},
   "source": [
    "# Ex3 : Compressible Euler simulation - CPU Multi partition version"
   ]
  },
  {
   "cell_type": "markdown",
   "id": "129dcae8-ef7f-4b5c-925c-5261034a4202",
   "metadata": {},
   "source": [
    "### Set work directory"
   ]
  },
  {
   "cell_type": "code",
   "execution_count": null,
   "id": "c2735bd0-8ff4-41de-b00a-3e1ec0995ebf",
   "metadata": {
    "tags": []
   },
   "outputs": [],
   "source": [
    "DGLM_DIR = \"/home/user/0.4.1-OpenSource\"\n",
    "WORK_DIR = \"ex3.run.cpu.uniform.npart-3\""
   ]
  },
  {
   "cell_type": "markdown",
   "id": "03447742-1b3e-4467-9453-6e64de2a7cec",
   "metadata": {},
   "source": [
    "### Set modules"
   ]
  },
  {
   "cell_type": "code",
   "execution_count": null,
   "id": "d78af222-61f5-4e52-8b1f-4f14eb22726c",
   "metadata": {
    "tags": []
   },
   "outputs": [],
   "source": [
    "%load_ext autoreload\n",
    "%autoreload all"
   ]
  },
  {
   "cell_type": "markdown",
   "id": "5e4ee9b4-4e4c-481c-942a-dc0da1cc53dc",
   "metadata": {},
   "source": [
    "### Initialize DGLM object <a name='init_obj'></a>"
   ]
  },
  {
   "cell_type": "code",
   "execution_count": null,
   "id": "00c0ea75-e299-4f12-bd93-9f26cab108d6",
   "metadata": {
    "tags": []
   },
   "outputs": [],
   "source": [
    "N    = 5\n",
    "Nvar = 5  \n",
    "tmax = 2\n",
    "mpisize = npart = 3\n",
    "\n",
    "\n",
    "x1, x2, nx = 0, 1, 7  # Nelem=1296, h=0.06904 (cf, nx=6: Nelem=750, h=0.8284)\n",
    "y1, y2, ny = 0, 1, 7\n",
    "z1, z2, nz = 0, 1, 7\n",
    "bc = {'x':'pbc', 'y':'pbc', 'z':'pbc'}\n",
    "mesh_info = {\"type\": \"uniform\", \"param\": [nx, ny, nz, x1, x2, y1, y2, z1, z2, bc]}\n",
    "\n",
    "\n",
    "dglm_param = {\n",
    "        'CFL'      : 0.8,\n",
    "        'gamma'    : 1.4,\n",
    "        'tau_scale': 1.2,\n",
    "        'interpN'  : 2,\n",
    "        'dtype'    : 'f8'}\n",
    "\n",
    "print(f\"DGLM_DIR={DGLM_DIR}\")\n",
    "print(f\"WORK_DIR={WORK_DIR}\")\n",
    "        \n",
    "import sys\n",
    "sys.path.append(f\"{DGLM_DIR}/dim3/src/python\")\n",
    "from dglm_3d_launcher import DGLM3DMpiCPU\n",
    "\n",
    "dg_list = []\n",
    "for myrank in range(mpisize):\n",
    "    dg = DGLM3DMpiCPU(myrank, mpisize, DGLM_DIR, WORK_DIR, N, Nvar, tmax, dglm_param)\n",
    "    dg_list.append(dg)    \n",
    "    dg.init_mesh(mesh_info, verbose=1)\n",
    "    dg.make_work_dir()\n",
    "    dg.save_to_binaries(verbose=1)\n",
    "\n",
    "print()\n",
    "dg = dg_list[0]\n",
    "prefix = 'euler_mpi_'\n",
    "suffix = '.cpp'\n",
    "names = ['data', 'comm', 'dglm', 'time', 'init', 'main']\n",
    "filenames = [prefix+name+suffix for name in names]\n",
    "dg.save_to_header([fname for fname in filenames if 'main' not in fname], verbose=1)\n",
    "dg.link_codes(filenames, verbose=1)    \n",
    "dg.build([fname for fname in filenames if 'main' in fname], use_sanitize=False, verbose=1)\n",
    "\n",
    "dg.check_mem_size(prefix+'data'+suffix, verbose=1)\n",
    "hmin, hmax = dg.mesh.calc_spatial_h(verbose=1)"
   ]
  },
  {
   "cell_type": "markdown",
   "id": "9506c504-34db-4ea3-8117-b93d5e1d88ba",
   "metadata": {},
   "source": [
    "### Memory size\n",
    "\n",
    "DGLM|Mesh|Nelem|Npart|h|N|NP|NFACE|NFP|Nvar|total bytes\n",
    ":---:|:---:|:---:|:---:|:---:|:---:|:---:|:---:|:---:|:---:|:---:\n",
    "0.3.3|Gmsh|768|-|0.03655|5|56|4|21|5|17.14 MB\n",
    "0.3.3|Uniform|750|-|0.08284|5|56|4|21|5|16.74 MB\n",
    "0.4.0|Uniform|1296|1|0.06904|5|56|4|21|5|28.84 MB\n",
    "0.4.0|Uniform|1296(648)|2|0.06904|5|56|4|21|5|30.30 MB (15.15 MB)\n",
    "0.4.0|Uniform|1296(432)|3|0.06904|5|56|4|21|5|30.78 MB (10.26 MB)\n",
    "0.4.0|Gmsh|768(256)|3|0.03742|5|56|4|21|5|18.75 MB (6.25 MB)"
   ]
  },
  {
   "cell_type": "markdown",
   "id": "783dfeb5-5bfb-45fe-85f1-6932ae9eb896",
   "metadata": {},
   "source": [
    "### Run"
   ]
  },
  {
   "cell_type": "code",
   "execution_count": null,
   "id": "7da9fdd3-a96c-4109-a0e9-1eac21da46fa",
   "metadata": {
    "tags": []
   },
   "outputs": [],
   "source": [
    "num_cpu_cores = 64\n",
    "num_omp_threads = num_cpu_cores//dg.npart\n",
    "tstep, avg_dt, elapsed_time = dg.run('euler_mpi_main', omp_threads=num_omp_threads, verbose=1)"
   ]
  },
  {
   "cell_type": "markdown",
   "id": "1f7748ce-b4f6-4f62-b50a-b21c70e91318",
   "metadata": {},
   "source": [
    "### L2 error (pointwise)"
   ]
  },
  {
   "cell_type": "code",
   "execution_count": null,
   "id": "bc524c24-9c04-4cf5-a68d-8024d148fd89",
   "metadata": {
    "tags": []
   },
   "outputs": [],
   "source": [
    "import numpy as np\n",
    "\n",
    "def ref_solution(dg, t):\n",
    "    x = dg.mesh.high_PX.ravel()\n",
    "    y = dg.mesh.high_PY.ravel()\n",
    "    z = dg.mesh.high_PZ.ravel()\n",
    "        \n",
    "    vx = np.ones_like(x)\n",
    "    vy = -0.5*np.ones_like(y)\n",
    "    vz = np.ones_like(z)\n",
    "\n",
    "    xvt = ((x-vx*t) + 1)%1 - 1\n",
    "    yvt = ((y-vy*t) + 1)%1 - 1\n",
    "    zvt = ((z-vz*t) + 1)%1 - 1\n",
    "    u1_ref = 1 + 0.2*np.sin(2*np.pi*(xvt+yvt+zvt))\n",
    "\n",
    "    return u1_ref"
   ]
  },
  {
   "cell_type": "code",
   "execution_count": null,
   "id": "d29ac247-238f-4ed3-a2f5-49309c9a792b",
   "metadata": {
    "tags": []
   },
   "outputs": [],
   "source": [
    "from glob import glob\n",
    "\n",
    "l2_list = []\n",
    "for dg in dg_list:\n",
    "    out_fpaths = sorted(glob(dg.dataout_dir + \"/*.bin\"))\n",
    "    u_numeric = np.fromfile(out_fpaths[-1])\n",
    "    u_ref = ref_solution(dg, t=dg.tmax)\n",
    "    l2 = dg.l2_error(u_ref, u_numeric, apply_sqrt=False)\n",
    "    l2_list.append(l2)\n",
    "    \n",
    "print(np.sqrt(np.sum(l2_list)))"
   ]
  },
  {
   "cell_type": "markdown",
   "id": "547e9a43-68fa-474a-8fdb-1176f398a53e",
   "metadata": {
    "tags": []
   },
   "source": [
    "DGLM|exp|Mesh|Nelem|Npart|N|CFL|h|dt|tmax|tstep|L2 error\n",
    ":---:|:---:|:---:|:---:|:---:|:---:|:---:|:---:|:---:|:---:|:---:|:---:\n",
    "0.3.3|3.16|Gmsh|768|-|5|0.8|0.03655|0.00066|2.0|2961|3.238790136116263e-05\n",
    "0.3.3|3.16|Uniform|750|-|5|0.8|0.08284|0.00181|2.0|1098|7.674679246306467e-05\n",
    "0.4.0|3.16|Uniform|1296|1|5|0.8|0.06904|0.00149|2.0|1318|2.429869462976010e-05\n",
    "0.4.0|3.18|Uniform|1296|2|5|0.8|0.06904|0.00149|2.0|1318|2.429869462976010e-05\n",
    "0.4.0|3.18|Uniform|1296|3|5|0.8|0.06904|0.00149|2.0|1318|2.429869462976010e-05\n",
    "0.4.0|3.18|Gmsh|768|3|5|0.8|0.03742|0.00066|2.0|2961|3.238790136116263e-05"
   ]
  },
  {
   "cell_type": "markdown",
   "id": "7ab0f372-d6d9-4a7a-8610-88c4133a9788",
   "metadata": {},
   "source": [
    "### Plot snapshot <a name='plot_snapshot'></a>"
   ]
  },
  {
   "cell_type": "code",
   "execution_count": null,
   "id": "08f5685d-dfc1-4267-94c3-888f2bbaed81",
   "metadata": {},
   "outputs": [],
   "source": [
    "import sys\n",
    "sys.path.append(DGLM_DIR + \"/utils/src/python\")\n",
    "from plot3d import Plot3DTetra"
   ]
  },
  {
   "cell_type": "code",
   "execution_count": null,
   "id": "19c8d086-8301-4e32-adf7-477bcd777211",
   "metadata": {},
   "outputs": [],
   "source": [
    "p3t = Plot3DTetra(dg_list, res='low', backend='trame', use_xvfb=True, file_exist=True)\n",
    "u, tstep = p3t.read_output_file(seq=-1)\n",
    "print(f\"tstep={tstep}\")\n",
    "pl, pvmesh = p3t.plot(u, 'u')\n",
    "pl.add_mesh(pvmesh, colormap='CET_L18', opacity='sigmoid')\n",
    "#contours = pvmesh.contour(np.linspace(0, 1, 6), scalars='u')\n",
    "#pl.add_mesh(pvmesh.outline(), color=\"k\")\n",
    "#pl.add_mesh(contours, opacity=0.9, clim=[-1,1])\n",
    "pl.show()"
   ]
  },
  {
   "cell_type": "markdown",
   "id": "b9a7efb6-22e1-44ab-bdeb-4b9260446950",
   "metadata": {
    "tags": []
   },
   "source": [
    "### Plot animation <a name='plot_ani'></a>"
   ]
  },
  {
   "cell_type": "code",
   "execution_count": null,
   "id": "50ce76cd-1032-4ebc-b88b-a938aa58329e",
   "metadata": {},
   "outputs": [],
   "source": [
    "p3t = Plot3DTetra(dg_list, res='high', backend='trame', use_xvfb=True, file_exist=True)\n",
    "u0, tstep = p3t.read_output_file(0)\n",
    "pl, pvmesh = p3t.plot(u0, 'u')\n",
    "pl.open_movie(WORK_DIR + \"/u1.mp4\", framerate=12, quality=5)\n",
    "#pl.open_gif(WORK_DIR + \"/u1.gif\", fps=12)\n",
    "\n",
    "pl.add_mesh(pvmesh, scalars=\"u\", colormap='CET_L18', opacity='sigmoid')\n",
    "#contours = pvmesh.contour(np.linspace(0, 1, 6), scalars='u')\n",
    "#pl.add_mesh(contours, opacity=0.9, clim=[-1,1])\n",
    "#pl.add_mesh(pvmesh.outline(), color=\"k\")\n",
    "pl.show_axes()\n",
    "\n",
    "# camera angle\n",
    "num_files = p3t.get_num_output_files()\n",
    "ang = 360/(num_files-1)\n",
    "\n",
    "# Update scalars on each frame\n",
    "for seq in range(1, num_files):\n",
    "    u, tstep = p3t.read_output_file(seq)\n",
    "    p3t.set_point_data(u, 'u')\n",
    "    #contours.copy_from(pvmesh.contour(np.linspace(0, 1, 6), scalars='u'))\n",
    "    \n",
    "    pl.add_text(f\"tstep={tstep}\", name='time-label')\n",
    "    pl.camera.azimuth = 240  # ang\n",
    "    pl.write_frame()  # Write this frame\n",
    "\n",
    "# Be sure to close the plotter when finished\n",
    "pl.close()"
   ]
  },
  {
   "cell_type": "code",
   "execution_count": null,
   "id": "434f0593-affb-42b8-bb6d-bc6bf9f5bb58",
   "metadata": {
    "tags": []
   },
   "outputs": [],
   "source": [
    "from IPython.display import Video\n",
    "Video(WORK_DIR+\"/u1.mp4\", width=800, html_attributes=\"controls loop autoplay\")"
   ]
  }
 ],
 "metadata": {
  "kernelspec": {
   "display_name": "Python 3 (ipykernel)",
   "language": "python",
   "name": "python3"
  },
  "language_info": {
   "codemirror_mode": {
    "name": "ipython",
    "version": 3
   },
   "file_extension": ".py",
   "mimetype": "text/x-python",
   "name": "python",
   "nbconvert_exporter": "python",
   "pygments_lexer": "ipython3",
   "version": "3.10.12"
  }
 },
 "nbformat": 4,
 "nbformat_minor": 5
}
